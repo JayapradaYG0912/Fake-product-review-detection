{
 "cells": [
  {
   "cell_type": "code",
   "execution_count": 32,
   "id": "83f7353a-08fd-400f-ade5-53e9d2fda806",
   "metadata": {},
   "outputs": [
    {
     "name": "stdout",
     "output_type": "stream",
     "text": [
      "Requirement already satisfied: pandas in c:\\users\\arfam\\appdata\\local\\programs\\python\\python312\\lib\\site-packages (2.2.2)\n",
      "Requirement already satisfied: seaborn in c:\\users\\arfam\\appdata\\local\\programs\\python\\python312\\lib\\site-packages (0.13.2)\n",
      "Requirement already satisfied: matplotlib in c:\\users\\arfam\\appdata\\local\\programs\\python\\python312\\lib\\site-packages (3.9.0)\n",
      "Requirement already satisfied: numpy>=1.26.0 in c:\\users\\arfam\\appdata\\local\\programs\\python\\python312\\lib\\site-packages (from pandas) (1.26.4)\n",
      "Requirement already satisfied: python-dateutil>=2.8.2 in c:\\users\\arfam\\appdata\\local\\programs\\python\\python312\\lib\\site-packages (from pandas) (2.9.0.post0)\n",
      "Requirement already satisfied: pytz>=2020.1 in c:\\users\\arfam\\appdata\\local\\programs\\python\\python312\\lib\\site-packages (from pandas) (2024.1)\n",
      "Requirement already satisfied: tzdata>=2022.7 in c:\\users\\arfam\\appdata\\local\\programs\\python\\python312\\lib\\site-packages (from pandas) (2024.1)\n",
      "Requirement already satisfied: contourpy>=1.0.1 in c:\\users\\arfam\\appdata\\local\\programs\\python\\python312\\lib\\site-packages (from matplotlib) (1.2.1)\n",
      "Requirement already satisfied: cycler>=0.10 in c:\\users\\arfam\\appdata\\local\\programs\\python\\python312\\lib\\site-packages (from matplotlib) (0.12.1)\n",
      "Requirement already satisfied: fonttools>=4.22.0 in c:\\users\\arfam\\appdata\\local\\programs\\python\\python312\\lib\\site-packages (from matplotlib) (4.53.0)\n",
      "Requirement already satisfied: kiwisolver>=1.3.1 in c:\\users\\arfam\\appdata\\local\\programs\\python\\python312\\lib\\site-packages (from matplotlib) (1.4.5)\n",
      "Requirement already satisfied: packaging>=20.0 in c:\\users\\arfam\\appdata\\local\\programs\\python\\python312\\lib\\site-packages (from matplotlib) (24.0)\n",
      "Requirement already satisfied: pillow>=8 in c:\\users\\arfam\\appdata\\local\\programs\\python\\python312\\lib\\site-packages (from matplotlib) (10.3.0)\n",
      "Requirement already satisfied: pyparsing>=2.3.1 in c:\\users\\arfam\\appdata\\local\\programs\\python\\python312\\lib\\site-packages (from matplotlib) (3.1.2)\n",
      "Requirement already satisfied: six>=1.5 in c:\\users\\arfam\\appdata\\local\\programs\\python\\python312\\lib\\site-packages (from python-dateutil>=2.8.2->pandas) (1.16.0)\n",
      "Note: you may need to restart the kernel to use updated packages.\n"
     ]
    },
    {
     "name": "stderr",
     "output_type": "stream",
     "text": [
      "\n",
      "[notice] A new release of pip is available: 24.0 -> 24.3.1\n",
      "[notice] To update, run: python.exe -m pip install --upgrade pip\n"
     ]
    }
   ],
   "source": [
    "pip install pandas seaborn matplotlib"
   ]
  },
  {
   "cell_type": "code",
   "execution_count": 1,
   "id": "461f63b8-a660-4dfe-8a0d-ea5cea00f553",
   "metadata": {},
   "outputs": [
    {
     "name": "stdout",
     "output_type": "stream",
     "text": [
      "Note: you may need to restart the kernel to use updated packages.Requirement already satisfied: Faker in c:\\users\\arfam\\appdata\\local\\programs\\python\\python312\\lib\\site-packages (33.1.0)\n",
      "Requirement already satisfied: python-dateutil>=2.4 in c:\\users\\arfam\\appdata\\local\\programs\\python\\python312\\lib\\site-packages (from Faker) (2.9.0.post0)\n",
      "Requirement already satisfied: typing-extensions in c:\\users\\arfam\\appdata\\local\\programs\\python\\python312\\lib\\site-packages (from Faker) (4.12.2)\n",
      "Requirement already satisfied: six>=1.5 in c:\\users\\arfam\\appdata\\local\\programs\\python\\python312\\lib\\site-packages (from python-dateutil>=2.4->Faker) (1.16.0)\n",
      "\n"
     ]
    },
    {
     "name": "stderr",
     "output_type": "stream",
     "text": [
      "\n",
      "[notice] A new release of pip is available: 24.0 -> 24.3.1\n",
      "[notice] To update, run: python.exe -m pip install --upgrade pip\n"
     ]
    }
   ],
   "source": [
    "pip install Faker"
   ]
  },
  {
   "cell_type": "code",
   "execution_count": 1,
   "id": "e9ccfa05-6378-4a7d-af29-202b9f9185f4",
   "metadata": {},
   "outputs": [],
   "source": [
    "import pandas as pd\n",
    "import matplotlib.pyplot as plt\n",
    "%matplotlib inline\n",
    "import seaborn as sns\n",
    "sns.set()\n",
    "import warnings\n",
    "warnings.simplefilter(\"ignore\")"
   ]
  },
  {
   "cell_type": "code",
   "execution_count": 2,
   "id": "7f098714-e832-4e0f-bc3c-b31b21ce7b9b",
   "metadata": {},
   "outputs": [
    {
     "name": "stdout",
     "output_type": "stream",
     "text": [
      "                                                 url  \\\n",
      "0  https://www.amazon.co.uk/gp/review/R18JE8EYCYX...   \n",
      "1  https://www.amazon.co.uk/gp/review/R3M2146VNTD...   \n",
      "2  https://www.amazon.co.uk/gp/review/R3U00QINFHP...   \n",
      "3  https://www.amazon.co.uk/gp/review/R5BZDAV3JC42E/   \n",
      "4  https://www.amazon.co.uk/gp/review/R1AS6K8FBV8...   \n",
      "\n",
      "                                         review_bold  ratings  \\\n",
      "0                            I rarely use them but..        5   \n",
      "1  Best Price for Great Workout / Running Headphones        5   \n",
      "2      Amazed at how good these sound for the price.        5   \n",
      "3  Earbuds that give you great sound for a small ...        5   \n",
      "4                                        Great price        5   \n",
      "\n",
      "                                              review  verified           date  \\\n",
      "0  These headphones are pretty damn good for the ...         0  25 April 2017   \n",
      "1  These are amazing for £10. AMAZING. They stick...         0     3 May 2017   \n",
      "2  They fit very comfortably in my ear and have p...         0  28 April 2017   \n",
      "3  These earbuds will change the way you look at ...         0  25 April 2017   \n",
      "4  These headphones are a great value for this pr...         0  25 March 2017   \n",
      "\n",
      "              by                    profile_id  most_rev  \\\n",
      "0  Sandra Morgan  AFNMUCU4D7HN6NLUSQXPYSS7ZT6A         1   \n",
      "1    Ryan Gibson  AEMS5UDZTZN4L3BIJV57COUNV2FA         1   \n",
      "2    Ryan Gibson  AEMS5UDZTZN4L3BIJV57COUNV2FA         1   \n",
      "3    Ryan Gibson  AEMS5UDZTZN4L3BIJV57COUNV2FA         1   \n",
      "4    Ryan Gibson  AEMS5UDZTZN4L3BIJV57COUNV2FA         1   \n",
      "\n",
      "                                             by_link  helpful  \\\n",
      "0  https://www.amazon.co.uk/gp/profile/amzn1.acco...       39   \n",
      "1  https://www.amazon.co.uk/gp/profile/amzn1.acco...        0   \n",
      "2  https://www.amazon.co.uk/gp/profile/amzn1.acco...        0   \n",
      "3  https://www.amazon.co.uk/gp/profile/amzn1.acco...       35   \n",
      "4  https://www.amazon.co.uk/gp/profile/amzn1.acco...        0   \n",
      "\n",
      "                                             product  \\\n",
      "0                         Earphones In ear Black&Red   \n",
      "1                        Earphones In ear Black&Blue   \n",
      "2               Headphones with Earhook Design Black   \n",
      "3                             In Ear Earphones Black   \n",
      "4  Headphones OCOMI In-line Control Earbuds Wired...   \n",
      "\n",
      "                                        product_link  review_sentiment  \n",
      "0  https://www.amazon.co.uk/Earphones-In-ear-Blac...          0.223021  \n",
      "1  https://www.amazon.co.uk/Earphones-In-ear-Blac...          0.402500  \n",
      "2  https://www.amazon.co.uk/Headphones-with-Earho...          0.246667  \n",
      "3  https://www.amazon.co.uk/XuDirect-In-Ear-Earph...          0.288550  \n",
      "4  https://www.amazon.co.uk/Headphones-OCOMI-Cont...          0.446364  \n"
     ]
    }
   ],
   "source": [
    "import pandas as pd\n",
    "from sklearn.model_selection import train_test_split\n",
    "from sklearn.preprocessing import StandardScaler\n",
    "from sklearn.ensemble import RandomForestClassifier  # Example model\n",
    "from sklearn.metrics import classification_report, confusion_matrix\n",
    "# Load the datasets\n",
    "df = pd.read_csv(\"C:/Users/arfam/Downloads/final_dataset.csv\", encoding=\"latin1\")\n",
    "ip = pd.read_csv(\"geoip2-ipv4_csv.csv\")\n",
    "\n",
    "# Display the first few rows of the dataset\n",
    "print(df.head())"
   ]
  },
  {
   "cell_type": "code",
   "execution_count": 4,
   "id": "d8512144-efce-4322-a577-314cbe9e7cf5",
   "metadata": {},
   "outputs": [
    {
     "ename": "NameError",
     "evalue": "name 'X' is not defined",
     "output_type": "error",
     "traceback": [
      "\u001b[1;31m---------------------------------------------------------------------------\u001b[0m",
      "\u001b[1;31mNameError\u001b[0m                                 Traceback (most recent call last)",
      "Cell \u001b[1;32mIn[4], line 1\u001b[0m\n\u001b[1;32m----> 1\u001b[0m X_train, X_test, y_train, y_test \u001b[38;5;241m=\u001b[39m train_test_split(\u001b[43mX\u001b[49m, y, test_size\u001b[38;5;241m=\u001b[39m\u001b[38;5;241m0.2\u001b[39m, random_state\u001b[38;5;241m=\u001b[39m\u001b[38;5;241m42\u001b[39m)\n",
      "\u001b[1;31mNameError\u001b[0m: name 'X' is not defined"
     ]
    }
   ],
   "source": [
    "X_train, X_test, y_train, y_test = train_test_split(X, y, test_size=0.2, random_state=42)"
   ]
  },
  {
   "cell_type": "code",
   "execution_count": 5,
   "id": "a40af2a3-98e8-4cb8-a0e4-b5abf3fa6d69",
   "metadata": {},
   "outputs": [],
   "source": [
    "#lOADING DATASET \n",
    "df = pd.read_csv(\"C:/Users/arfam/Downloads/final_dataset.csv\",encoding=\"latin1\") #due to special charas should be encoded as latin 1\n",
    "#REMOVE MAX\n",
    "ip=pd.read_csv(\"geoip2-ipv4_csv.csv\")\n",
    "pd.set_option('display.max_columns', None)\n",
    "pd.set_option('display.max_rows', None)"
   ]
  },
  {
   "cell_type": "code",
   "execution_count": 6,
   "id": "bda11ab5-5e1f-430c-91e3-ebadcf023bd1",
   "metadata": {},
   "outputs": [
    {
     "name": "stdout",
     "output_type": "stream",
     "text": [
      "Total Reviews:  7652\n",
      "Total Attributes:  14\n"
     ]
    }
   ],
   "source": [
    "n_reviews, n_attributes = df.shape\n",
    "print('Total Reviews: ',n_reviews)\n",
    "print('Total Attributes: ',n_attributes)"
   ]
  },
  {
   "cell_type": "code",
   "execution_count": 7,
   "id": "753b5005-1972-4dc9-9eec-4eded7f4dbbf",
   "metadata": {},
   "outputs": [
    {
     "data": {
      "text/html": [
       "<div>\n",
       "<style scoped>\n",
       "    .dataframe tbody tr th:only-of-type {\n",
       "        vertical-align: middle;\n",
       "    }\n",
       "\n",
       "    .dataframe tbody tr th {\n",
       "        vertical-align: top;\n",
       "    }\n",
       "\n",
       "    .dataframe thead th {\n",
       "        text-align: right;\n",
       "    }\n",
       "</style>\n",
       "<table border=\"1\" class=\"dataframe\">\n",
       "  <thead>\n",
       "    <tr style=\"text-align: right;\">\n",
       "      <th></th>\n",
       "      <th>geoname_id</th>\n",
       "    </tr>\n",
       "  </thead>\n",
       "  <tbody>\n",
       "    <tr>\n",
       "      <th>count</th>\n",
       "      <td>1.715610e+05</td>\n",
       "    </tr>\n",
       "    <tr>\n",
       "      <th>mean</th>\n",
       "      <td>3.498003e+06</td>\n",
       "    </tr>\n",
       "    <tr>\n",
       "      <th>std</th>\n",
       "      <td>2.002172e+06</td>\n",
       "    </tr>\n",
       "    <tr>\n",
       "      <th>min</th>\n",
       "      <td>4.951800e+04</td>\n",
       "    </tr>\n",
       "    <tr>\n",
       "      <th>25%</th>\n",
       "      <td>2.017370e+06</td>\n",
       "    </tr>\n",
       "    <tr>\n",
       "      <th>50%</th>\n",
       "      <td>2.921044e+06</td>\n",
       "    </tr>\n",
       "    <tr>\n",
       "      <th>75%</th>\n",
       "      <td>6.252001e+06</td>\n",
       "    </tr>\n",
       "    <tr>\n",
       "      <th>max</th>\n",
       "      <td>7.909807e+06</td>\n",
       "    </tr>\n",
       "  </tbody>\n",
       "</table>\n",
       "</div>"
      ],
      "text/plain": [
       "         geoname_id\n",
       "count  1.715610e+05\n",
       "mean   3.498003e+06\n",
       "std    2.002172e+06\n",
       "min    4.951800e+04\n",
       "25%    2.017370e+06\n",
       "50%    2.921044e+06\n",
       "75%    6.252001e+06\n",
       "max    7.909807e+06"
      ]
     },
     "execution_count": 7,
     "metadata": {},
     "output_type": "execute_result"
    }
   ],
   "source": [
    "ip.describe()"
   ]
  },
  {
   "cell_type": "code",
   "execution_count": 8,
   "id": "642179cc-bcc5-42b1-a825-a9a298af79ed",
   "metadata": {},
   "outputs": [
    {
     "data": {
      "text/html": [
       "<div>\n",
       "<style scoped>\n",
       "    .dataframe tbody tr th:only-of-type {\n",
       "        vertical-align: middle;\n",
       "    }\n",
       "\n",
       "    .dataframe tbody tr th {\n",
       "        vertical-align: top;\n",
       "    }\n",
       "\n",
       "    .dataframe thead th {\n",
       "        text-align: right;\n",
       "    }\n",
       "</style>\n",
       "<table border=\"1\" class=\"dataframe\">\n",
       "  <thead>\n",
       "    <tr style=\"text-align: right;\">\n",
       "      <th></th>\n",
       "      <th>network</th>\n",
       "      <th>geoname_id</th>\n",
       "      <th>continent_code</th>\n",
       "      <th>continent_name</th>\n",
       "      <th>country_iso_code</th>\n",
       "      <th>country_name</th>\n",
       "      <th>is_anonymous_proxy</th>\n",
       "      <th>is_satellite_provider</th>\n",
       "    </tr>\n",
       "  </thead>\n",
       "  <tbody>\n",
       "    <tr>\n",
       "      <th>0</th>\n",
       "      <td>41.74.160.0/20</td>\n",
       "      <td>49518.0</td>\n",
       "      <td>AF</td>\n",
       "      <td>Africa</td>\n",
       "      <td>RW</td>\n",
       "      <td>Rwanda</td>\n",
       "      <td>False</td>\n",
       "      <td>False</td>\n",
       "    </tr>\n",
       "    <tr>\n",
       "      <th>1</th>\n",
       "      <td>41.77.160.0/22</td>\n",
       "      <td>49518.0</td>\n",
       "      <td>AF</td>\n",
       "      <td>Africa</td>\n",
       "      <td>RW</td>\n",
       "      <td>Rwanda</td>\n",
       "      <td>False</td>\n",
       "      <td>False</td>\n",
       "    </tr>\n",
       "    <tr>\n",
       "      <th>2</th>\n",
       "      <td>41.138.80.0/21</td>\n",
       "      <td>49518.0</td>\n",
       "      <td>AF</td>\n",
       "      <td>Africa</td>\n",
       "      <td>RW</td>\n",
       "      <td>Rwanda</td>\n",
       "      <td>False</td>\n",
       "      <td>False</td>\n",
       "    </tr>\n",
       "    <tr>\n",
       "      <th>3</th>\n",
       "      <td>41.186.0.0/16</td>\n",
       "      <td>49518.0</td>\n",
       "      <td>AF</td>\n",
       "      <td>Africa</td>\n",
       "      <td>RW</td>\n",
       "      <td>Rwanda</td>\n",
       "      <td>False</td>\n",
       "      <td>False</td>\n",
       "    </tr>\n",
       "    <tr>\n",
       "      <th>4</th>\n",
       "      <td>41.197.0.0/16</td>\n",
       "      <td>49518.0</td>\n",
       "      <td>AF</td>\n",
       "      <td>Africa</td>\n",
       "      <td>RW</td>\n",
       "      <td>Rwanda</td>\n",
       "      <td>False</td>\n",
       "      <td>False</td>\n",
       "    </tr>\n",
       "  </tbody>\n",
       "</table>\n",
       "</div>"
      ],
      "text/plain": [
       "          network  geoname_id continent_code continent_name country_iso_code  \\\n",
       "0  41.74.160.0/20     49518.0             AF         Africa               RW   \n",
       "1  41.77.160.0/22     49518.0             AF         Africa               RW   \n",
       "2  41.138.80.0/21     49518.0             AF         Africa               RW   \n",
       "3   41.186.0.0/16     49518.0             AF         Africa               RW   \n",
       "4   41.197.0.0/16     49518.0             AF         Africa               RW   \n",
       "\n",
       "  country_name  is_anonymous_proxy  is_satellite_provider  \n",
       "0       Rwanda               False                  False  \n",
       "1       Rwanda               False                  False  \n",
       "2       Rwanda               False                  False  \n",
       "3       Rwanda               False                  False  \n",
       "4       Rwanda               False                  False  "
      ]
     },
     "execution_count": 8,
     "metadata": {},
     "output_type": "execute_result"
    }
   ],
   "source": [
    "ip.head()"
   ]
  },
  {
   "cell_type": "code",
   "execution_count": 9,
   "id": "8b15a256-aba1-42a8-b5a9-c653b33d1267",
   "metadata": {},
   "outputs": [
    {
     "data": {
      "text/html": [
       "<div>\n",
       "<style scoped>\n",
       "    .dataframe tbody tr th:only-of-type {\n",
       "        vertical-align: middle;\n",
       "    }\n",
       "\n",
       "    .dataframe tbody tr th {\n",
       "        vertical-align: top;\n",
       "    }\n",
       "\n",
       "    .dataframe thead th {\n",
       "        text-align: right;\n",
       "    }\n",
       "</style>\n",
       "<table border=\"1\" class=\"dataframe\">\n",
       "  <thead>\n",
       "    <tr style=\"text-align: right;\">\n",
       "      <th></th>\n",
       "      <th>network</th>\n",
       "      <th>continent_code</th>\n",
       "      <th>continent_name</th>\n",
       "      <th>country_iso_code</th>\n",
       "      <th>country_name</th>\n",
       "    </tr>\n",
       "  </thead>\n",
       "  <tbody>\n",
       "    <tr>\n",
       "      <th>count</th>\n",
       "      <td>172754</td>\n",
       "      <td>120141</td>\n",
       "      <td>171561</td>\n",
       "      <td>171513</td>\n",
       "      <td>171561</td>\n",
       "    </tr>\n",
       "    <tr>\n",
       "      <th>unique</th>\n",
       "      <td>172754</td>\n",
       "      <td>6</td>\n",
       "      <td>7</td>\n",
       "      <td>248</td>\n",
       "      <td>249</td>\n",
       "    </tr>\n",
       "    <tr>\n",
       "      <th>top</th>\n",
       "      <td>41.74.160.0/20</td>\n",
       "      <td>EU</td>\n",
       "      <td>Europe</td>\n",
       "      <td>US</td>\n",
       "      <td>United States</td>\n",
       "    </tr>\n",
       "    <tr>\n",
       "      <th>freq</th>\n",
       "      <td>1</td>\n",
       "      <td>80227</td>\n",
       "      <td>80227</td>\n",
       "      <td>39322</td>\n",
       "      <td>39322</td>\n",
       "    </tr>\n",
       "  </tbody>\n",
       "</table>\n",
       "</div>"
      ],
      "text/plain": [
       "               network continent_code continent_name country_iso_code  \\\n",
       "count           172754         120141         171561           171513   \n",
       "unique          172754              6              7              248   \n",
       "top     41.74.160.0/20             EU         Europe               US   \n",
       "freq                 1          80227          80227            39322   \n",
       "\n",
       "         country_name  \n",
       "count          171561  \n",
       "unique            249  \n",
       "top     United States  \n",
       "freq            39322  "
      ]
     },
     "execution_count": 9,
     "metadata": {},
     "output_type": "execute_result"
    }
   ],
   "source": [
    "ip.describe(include=object)"
   ]
  },
  {
   "cell_type": "code",
   "execution_count": 10,
   "id": "e7934331-fa4d-415d-b43e-54e2ad432bca",
   "metadata": {},
   "outputs": [
    {
     "data": {
      "text/plain": [
       "network                      0\n",
       "geoname_id                1193\n",
       "continent_code           52613\n",
       "continent_name            1193\n",
       "country_iso_code          1241\n",
       "country_name              1193\n",
       "is_anonymous_proxy           0\n",
       "is_satellite_provider        0\n",
       "dtype: int64"
      ]
     },
     "execution_count": 10,
     "metadata": {},
     "output_type": "execute_result"
    }
   ],
   "source": [
    "ip.isnull().sum()\n",
    "\n"
   ]
  },
  {
   "cell_type": "code",
   "execution_count": 11,
   "id": "d9842872-d7e9-4cc2-b6b1-612d329abe90",
   "metadata": {},
   "outputs": [
    {
     "name": "stdout",
     "output_type": "stream",
     "text": [
      "Number of duplicates in dataset:  0\n"
     ]
    }
   ],
   "source": [
    "dup = ip.duplicated().sum()\n",
    "print(\"Number of duplicates in dataset: \", dup)"
   ]
  },
  {
   "cell_type": "code",
   "execution_count": 12,
   "id": "589f61b2-836e-41bc-a6bc-960546373bcc",
   "metadata": {},
   "outputs": [],
   "source": [
    "import ipaddress\n",
    "\n",
    "def validate_ip_address(ip_string):\n",
    "    try:\n",
    "        ip_object = ipaddress.ip_address(ip_string)\n",
    "        print(f\"The IP address '{ip_object}' is valid.\")\n",
    "    except ValueError:\n",
    "        print(f\"The IP address '{ip_string}' is not valid.\")"
   ]
  },
  {
   "cell_type": "code",
   "execution_count": 13,
   "id": "f4d600ec-07b0-41bd-b139-41fa82cf3f2a",
   "metadata": {},
   "outputs": [
    {
     "name": "stdout",
     "output_type": "stream",
     "text": [
      "The IP address '127.0.0.1' is valid.\n",
      "The IP address '256.256.256.256' is not valid.\n"
     ]
    }
   ],
   "source": [
    "validate_ip_address(\"127.0.0.1\")\n",
    "validate_ip_address(\"256.256.256.256\")  "
   ]
  },
  {
   "cell_type": "code",
   "execution_count": 14,
   "id": "6c3308d7-3714-478c-bb53-21d25b3c97c2",
   "metadata": {},
   "outputs": [
    {
     "name": "stdout",
     "output_type": "stream",
     "text": [
      "Public IP Address: 152.58.243.42\n"
     ]
    }
   ],
   "source": [
    "import requests\n",
    "\n",
    "try:\n",
    "    public_ip = requests.get('https://api.ipify.org').text\n",
    "    print(f\"Public IP Address: {public_ip}\")\n",
    "except requests.RequestException as e:\n",
    "    print(f\"Error retrieving public IP address: {e}\")"
   ]
  },
  {
   "cell_type": "code",
   "execution_count": 15,
   "id": "b6d9fd52-416b-4f78-b7ef-82f1bc18ec03",
   "metadata": {},
   "outputs": [
    {
     "name": "stdout",
     "output_type": "stream",
     "text": [
      "<class 'pandas.core.frame.DataFrame'>\n",
      "RangeIndex: 7652 entries, 0 to 7651\n",
      "Data columns (total 14 columns):\n",
      " #   Column            Non-Null Count  Dtype  \n",
      "---  ------            --------------  -----  \n",
      " 0   url               7652 non-null   object \n",
      " 1   review_bold       7652 non-null   object \n",
      " 2   ratings           7652 non-null   int64  \n",
      " 3   review            7652 non-null   object \n",
      " 4   verified          7652 non-null   int64  \n",
      " 5   date              7652 non-null   object \n",
      " 6   by                7652 non-null   object \n",
      " 7   profile_id        7652 non-null   object \n",
      " 8   most_rev          7652 non-null   int64  \n",
      " 9   by_link           7652 non-null   object \n",
      " 10  helpful           7652 non-null   int64  \n",
      " 11  product           7335 non-null   object \n",
      " 12  product_link      7652 non-null   object \n",
      " 13  review_sentiment  7652 non-null   float64\n",
      "dtypes: float64(1), int64(4), object(9)\n",
      "memory usage: 837.1+ KB\n"
     ]
    }
   ],
   "source": [
    "df.info()"
   ]
  },
  {
   "cell_type": "code",
   "execution_count": 16,
   "id": "9a52cb06-f9d8-4954-aa21-1638e2551a32",
   "metadata": {},
   "outputs": [
    {
     "data": {
      "text/html": [
       "<div>\n",
       "<style scoped>\n",
       "    .dataframe tbody tr th:only-of-type {\n",
       "        vertical-align: middle;\n",
       "    }\n",
       "\n",
       "    .dataframe tbody tr th {\n",
       "        vertical-align: top;\n",
       "    }\n",
       "\n",
       "    .dataframe thead th {\n",
       "        text-align: right;\n",
       "    }\n",
       "</style>\n",
       "<table border=\"1\" class=\"dataframe\">\n",
       "  <thead>\n",
       "    <tr style=\"text-align: right;\">\n",
       "      <th></th>\n",
       "      <th>url</th>\n",
       "      <th>review_bold</th>\n",
       "      <th>ratings</th>\n",
       "      <th>review</th>\n",
       "      <th>verified</th>\n",
       "      <th>date</th>\n",
       "      <th>by</th>\n",
       "      <th>profile_id</th>\n",
       "      <th>most_rev</th>\n",
       "      <th>by_link</th>\n",
       "      <th>helpful</th>\n",
       "      <th>product</th>\n",
       "      <th>product_link</th>\n",
       "      <th>review_sentiment</th>\n",
       "    </tr>\n",
       "  </thead>\n",
       "  <tbody>\n",
       "    <tr>\n",
       "      <th>0</th>\n",
       "      <td>https://www.amazon.co.uk/gp/review/R18JE8EYCYX...</td>\n",
       "      <td>I rarely use them but..</td>\n",
       "      <td>5</td>\n",
       "      <td>These headphones are pretty damn good for the ...</td>\n",
       "      <td>0</td>\n",
       "      <td>25 April 2017</td>\n",
       "      <td>Sandra Morgan</td>\n",
       "      <td>AFNMUCU4D7HN6NLUSQXPYSS7ZT6A</td>\n",
       "      <td>1</td>\n",
       "      <td>https://www.amazon.co.uk/gp/profile/amzn1.acco...</td>\n",
       "      <td>39</td>\n",
       "      <td>Earphones In ear Black&amp;Red</td>\n",
       "      <td>https://www.amazon.co.uk/Earphones-In-ear-Blac...</td>\n",
       "      <td>0.223021</td>\n",
       "    </tr>\n",
       "    <tr>\n",
       "      <th>1</th>\n",
       "      <td>https://www.amazon.co.uk/gp/review/R3M2146VNTD...</td>\n",
       "      <td>Best Price for Great Workout / Running Headphones</td>\n",
       "      <td>5</td>\n",
       "      <td>These are amazing for £10. AMAZING. They stick...</td>\n",
       "      <td>0</td>\n",
       "      <td>3 May 2017</td>\n",
       "      <td>Ryan Gibson</td>\n",
       "      <td>AEMS5UDZTZN4L3BIJV57COUNV2FA</td>\n",
       "      <td>1</td>\n",
       "      <td>https://www.amazon.co.uk/gp/profile/amzn1.acco...</td>\n",
       "      <td>0</td>\n",
       "      <td>Earphones In ear Black&amp;Blue</td>\n",
       "      <td>https://www.amazon.co.uk/Earphones-In-ear-Blac...</td>\n",
       "      <td>0.402500</td>\n",
       "    </tr>\n",
       "    <tr>\n",
       "      <th>2</th>\n",
       "      <td>https://www.amazon.co.uk/gp/review/R3U00QINFHP...</td>\n",
       "      <td>Amazed at how good these sound for the price.</td>\n",
       "      <td>5</td>\n",
       "      <td>They fit very comfortably in my ear and have p...</td>\n",
       "      <td>0</td>\n",
       "      <td>28 April 2017</td>\n",
       "      <td>Ryan Gibson</td>\n",
       "      <td>AEMS5UDZTZN4L3BIJV57COUNV2FA</td>\n",
       "      <td>1</td>\n",
       "      <td>https://www.amazon.co.uk/gp/profile/amzn1.acco...</td>\n",
       "      <td>0</td>\n",
       "      <td>Headphones with Earhook Design Black</td>\n",
       "      <td>https://www.amazon.co.uk/Headphones-with-Earho...</td>\n",
       "      <td>0.246667</td>\n",
       "    </tr>\n",
       "    <tr>\n",
       "      <th>3</th>\n",
       "      <td>https://www.amazon.co.uk/gp/review/R5BZDAV3JC42E/</td>\n",
       "      <td>Earbuds that give you great sound for a small ...</td>\n",
       "      <td>5</td>\n",
       "      <td>These earbuds will change the way you look at ...</td>\n",
       "      <td>0</td>\n",
       "      <td>25 April 2017</td>\n",
       "      <td>Ryan Gibson</td>\n",
       "      <td>AEMS5UDZTZN4L3BIJV57COUNV2FA</td>\n",
       "      <td>1</td>\n",
       "      <td>https://www.amazon.co.uk/gp/profile/amzn1.acco...</td>\n",
       "      <td>35</td>\n",
       "      <td>In Ear Earphones Black</td>\n",
       "      <td>https://www.amazon.co.uk/XuDirect-In-Ear-Earph...</td>\n",
       "      <td>0.288550</td>\n",
       "    </tr>\n",
       "    <tr>\n",
       "      <th>4</th>\n",
       "      <td>https://www.amazon.co.uk/gp/review/R1AS6K8FBV8...</td>\n",
       "      <td>Great price</td>\n",
       "      <td>5</td>\n",
       "      <td>These headphones are a great value for this pr...</td>\n",
       "      <td>0</td>\n",
       "      <td>25 March 2017</td>\n",
       "      <td>Ryan Gibson</td>\n",
       "      <td>AEMS5UDZTZN4L3BIJV57COUNV2FA</td>\n",
       "      <td>1</td>\n",
       "      <td>https://www.amazon.co.uk/gp/profile/amzn1.acco...</td>\n",
       "      <td>0</td>\n",
       "      <td>Headphones OCOMI In-line Control Earbuds Wired...</td>\n",
       "      <td>https://www.amazon.co.uk/Headphones-OCOMI-Cont...</td>\n",
       "      <td>0.446364</td>\n",
       "    </tr>\n",
       "  </tbody>\n",
       "</table>\n",
       "</div>"
      ],
      "text/plain": [
       "                                                 url  \\\n",
       "0  https://www.amazon.co.uk/gp/review/R18JE8EYCYX...   \n",
       "1  https://www.amazon.co.uk/gp/review/R3M2146VNTD...   \n",
       "2  https://www.amazon.co.uk/gp/review/R3U00QINFHP...   \n",
       "3  https://www.amazon.co.uk/gp/review/R5BZDAV3JC42E/   \n",
       "4  https://www.amazon.co.uk/gp/review/R1AS6K8FBV8...   \n",
       "\n",
       "                                         review_bold  ratings  \\\n",
       "0                            I rarely use them but..        5   \n",
       "1  Best Price for Great Workout / Running Headphones        5   \n",
       "2      Amazed at how good these sound for the price.        5   \n",
       "3  Earbuds that give you great sound for a small ...        5   \n",
       "4                                        Great price        5   \n",
       "\n",
       "                                              review  verified           date  \\\n",
       "0  These headphones are pretty damn good for the ...         0  25 April 2017   \n",
       "1  These are amazing for £10. AMAZING. They stick...         0     3 May 2017   \n",
       "2  They fit very comfortably in my ear and have p...         0  28 April 2017   \n",
       "3  These earbuds will change the way you look at ...         0  25 April 2017   \n",
       "4  These headphones are a great value for this pr...         0  25 March 2017   \n",
       "\n",
       "              by                    profile_id  most_rev  \\\n",
       "0  Sandra Morgan  AFNMUCU4D7HN6NLUSQXPYSS7ZT6A         1   \n",
       "1    Ryan Gibson  AEMS5UDZTZN4L3BIJV57COUNV2FA         1   \n",
       "2    Ryan Gibson  AEMS5UDZTZN4L3BIJV57COUNV2FA         1   \n",
       "3    Ryan Gibson  AEMS5UDZTZN4L3BIJV57COUNV2FA         1   \n",
       "4    Ryan Gibson  AEMS5UDZTZN4L3BIJV57COUNV2FA         1   \n",
       "\n",
       "                                             by_link  helpful  \\\n",
       "0  https://www.amazon.co.uk/gp/profile/amzn1.acco...       39   \n",
       "1  https://www.amazon.co.uk/gp/profile/amzn1.acco...        0   \n",
       "2  https://www.amazon.co.uk/gp/profile/amzn1.acco...        0   \n",
       "3  https://www.amazon.co.uk/gp/profile/amzn1.acco...       35   \n",
       "4  https://www.amazon.co.uk/gp/profile/amzn1.acco...        0   \n",
       "\n",
       "                                             product  \\\n",
       "0                         Earphones In ear Black&Red   \n",
       "1                        Earphones In ear Black&Blue   \n",
       "2               Headphones with Earhook Design Black   \n",
       "3                             In Ear Earphones Black   \n",
       "4  Headphones OCOMI In-line Control Earbuds Wired...   \n",
       "\n",
       "                                        product_link  review_sentiment  \n",
       "0  https://www.amazon.co.uk/Earphones-In-ear-Blac...          0.223021  \n",
       "1  https://www.amazon.co.uk/Earphones-In-ear-Blac...          0.402500  \n",
       "2  https://www.amazon.co.uk/Headphones-with-Earho...          0.246667  \n",
       "3  https://www.amazon.co.uk/XuDirect-In-Ear-Earph...          0.288550  \n",
       "4  https://www.amazon.co.uk/Headphones-OCOMI-Cont...          0.446364  "
      ]
     },
     "execution_count": 16,
     "metadata": {},
     "output_type": "execute_result"
    }
   ],
   "source": [
    "df.head()"
   ]
  },
  {
   "cell_type": "code",
   "execution_count": 17,
   "id": "dedae97f-9198-48e9-bd0c-47869b7ec323",
   "metadata": {},
   "outputs": [
    {
     "data": {
      "text/html": [
       "<div>\n",
       "<style scoped>\n",
       "    .dataframe tbody tr th:only-of-type {\n",
       "        vertical-align: middle;\n",
       "    }\n",
       "\n",
       "    .dataframe tbody tr th {\n",
       "        vertical-align: top;\n",
       "    }\n",
       "\n",
       "    .dataframe thead th {\n",
       "        text-align: right;\n",
       "    }\n",
       "</style>\n",
       "<table border=\"1\" class=\"dataframe\">\n",
       "  <thead>\n",
       "    <tr style=\"text-align: right;\">\n",
       "      <th></th>\n",
       "      <th>ratings</th>\n",
       "      <th>verified</th>\n",
       "      <th>most_rev</th>\n",
       "      <th>helpful</th>\n",
       "      <th>review_sentiment</th>\n",
       "    </tr>\n",
       "  </thead>\n",
       "  <tbody>\n",
       "    <tr>\n",
       "      <th>count</th>\n",
       "      <td>7652.000000</td>\n",
       "      <td>7652.000000</td>\n",
       "      <td>7652.000000</td>\n",
       "      <td>7652.000000</td>\n",
       "      <td>7652.000000</td>\n",
       "    </tr>\n",
       "    <tr>\n",
       "      <th>mean</th>\n",
       "      <td>4.345923</td>\n",
       "      <td>0.724255</td>\n",
       "      <td>10.311945</td>\n",
       "      <td>1.000000</td>\n",
       "      <td>0.295181</td>\n",
       "    </tr>\n",
       "    <tr>\n",
       "      <th>std</th>\n",
       "      <td>1.112854</td>\n",
       "      <td>0.446918</td>\n",
       "      <td>9.676457</td>\n",
       "      <td>4.214358</td>\n",
       "      <td>0.273503</td>\n",
       "    </tr>\n",
       "    <tr>\n",
       "      <th>min</th>\n",
       "      <td>1.000000</td>\n",
       "      <td>0.000000</td>\n",
       "      <td>1.000000</td>\n",
       "      <td>0.000000</td>\n",
       "      <td>-1.000000</td>\n",
       "    </tr>\n",
       "    <tr>\n",
       "      <th>25%</th>\n",
       "      <td>4.000000</td>\n",
       "      <td>0.000000</td>\n",
       "      <td>4.000000</td>\n",
       "      <td>0.000000</td>\n",
       "      <td>0.125000</td>\n",
       "    </tr>\n",
       "    <tr>\n",
       "      <th>50%</th>\n",
       "      <td>5.000000</td>\n",
       "      <td>1.000000</td>\n",
       "      <td>8.000000</td>\n",
       "      <td>0.000000</td>\n",
       "      <td>0.255744</td>\n",
       "    </tr>\n",
       "    <tr>\n",
       "      <th>75%</th>\n",
       "      <td>5.000000</td>\n",
       "      <td>1.000000</td>\n",
       "      <td>14.000000</td>\n",
       "      <td>0.000000</td>\n",
       "      <td>0.455000</td>\n",
       "    </tr>\n",
       "    <tr>\n",
       "      <th>max</th>\n",
       "      <td>5.000000</td>\n",
       "      <td>1.000000</td>\n",
       "      <td>48.000000</td>\n",
       "      <td>87.000000</td>\n",
       "      <td>1.000000</td>\n",
       "    </tr>\n",
       "  </tbody>\n",
       "</table>\n",
       "</div>"
      ],
      "text/plain": [
       "           ratings     verified     most_rev      helpful  review_sentiment\n",
       "count  7652.000000  7652.000000  7652.000000  7652.000000       7652.000000\n",
       "mean      4.345923     0.724255    10.311945     1.000000          0.295181\n",
       "std       1.112854     0.446918     9.676457     4.214358          0.273503\n",
       "min       1.000000     0.000000     1.000000     0.000000         -1.000000\n",
       "25%       4.000000     0.000000     4.000000     0.000000          0.125000\n",
       "50%       5.000000     1.000000     8.000000     0.000000          0.255744\n",
       "75%       5.000000     1.000000    14.000000     0.000000          0.455000\n",
       "max       5.000000     1.000000    48.000000    87.000000          1.000000"
      ]
     },
     "execution_count": 17,
     "metadata": {},
     "output_type": "execute_result"
    }
   ],
   "source": [
    "df.describe()"
   ]
  },
  {
   "cell_type": "code",
   "execution_count": 18,
   "id": "9743857d-bbef-496c-99f3-7e5bf9d700bb",
   "metadata": {},
   "outputs": [
    {
     "data": {
      "text/html": [
       "<div>\n",
       "<style scoped>\n",
       "    .dataframe tbody tr th:only-of-type {\n",
       "        vertical-align: middle;\n",
       "    }\n",
       "\n",
       "    .dataframe tbody tr th {\n",
       "        vertical-align: top;\n",
       "    }\n",
       "\n",
       "    .dataframe thead th {\n",
       "        text-align: right;\n",
       "    }\n",
       "</style>\n",
       "<table border=\"1\" class=\"dataframe\">\n",
       "  <thead>\n",
       "    <tr style=\"text-align: right;\">\n",
       "      <th></th>\n",
       "      <th>url</th>\n",
       "      <th>review_bold</th>\n",
       "      <th>review</th>\n",
       "      <th>date</th>\n",
       "      <th>by</th>\n",
       "      <th>profile_id</th>\n",
       "      <th>by_link</th>\n",
       "      <th>product</th>\n",
       "      <th>product_link</th>\n",
       "    </tr>\n",
       "  </thead>\n",
       "  <tbody>\n",
       "    <tr>\n",
       "      <th>count</th>\n",
       "      <td>7652</td>\n",
       "      <td>7652</td>\n",
       "      <td>7652</td>\n",
       "      <td>7652</td>\n",
       "      <td>7652</td>\n",
       "      <td>7652</td>\n",
       "      <td>7652</td>\n",
       "      <td>7335</td>\n",
       "      <td>7652</td>\n",
       "    </tr>\n",
       "    <tr>\n",
       "      <th>unique</th>\n",
       "      <td>7411</td>\n",
       "      <td>5433</td>\n",
       "      <td>7001</td>\n",
       "      <td>1240</td>\n",
       "      <td>629</td>\n",
       "      <td>657</td>\n",
       "      <td>658</td>\n",
       "      <td>6016</td>\n",
       "      <td>6029</td>\n",
       "    </tr>\n",
       "    <tr>\n",
       "      <th>top</th>\n",
       "      <td>https://www.amazon.co.uk/gp/review/R2G8KFR5R1S...</td>\n",
       "      <td>Five Stars</td>\n",
       "      <td>Good buy will shop again</td>\n",
       "      <td>25 April 2017</td>\n",
       "      <td>Amazon Customer</td>\n",
       "      <td>AEF45VY5VBO7YNBGXP4E2N4OCHPA</td>\n",
       "      <td>https://www.amazon.co.uk/gp/profile/amzn1.acco...</td>\n",
       "      <td>Earphones In ear Black&amp;Red</td>\n",
       "      <td>0</td>\n",
       "    </tr>\n",
       "    <tr>\n",
       "      <th>freq</th>\n",
       "      <td>2</td>\n",
       "      <td>875</td>\n",
       "      <td>33</td>\n",
       "      <td>157</td>\n",
       "      <td>522</td>\n",
       "      <td>150</td>\n",
       "      <td>150</td>\n",
       "      <td>115</td>\n",
       "      <td>317</td>\n",
       "    </tr>\n",
       "  </tbody>\n",
       "</table>\n",
       "</div>"
      ],
      "text/plain": [
       "                                                      url review_bold  \\\n",
       "count                                                7652        7652   \n",
       "unique                                               7411        5433   \n",
       "top     https://www.amazon.co.uk/gp/review/R2G8KFR5R1S...  Five Stars   \n",
       "freq                                                    2         875   \n",
       "\n",
       "                          review           date               by  \\\n",
       "count                       7652           7652             7652   \n",
       "unique                      7001           1240              629   \n",
       "top     Good buy will shop again  25 April 2017  Amazon Customer   \n",
       "freq                          33            157              522   \n",
       "\n",
       "                          profile_id  \\\n",
       "count                           7652   \n",
       "unique                           657   \n",
       "top     AEF45VY5VBO7YNBGXP4E2N4OCHPA   \n",
       "freq                             150   \n",
       "\n",
       "                                                  by_link  \\\n",
       "count                                                7652   \n",
       "unique                                                658   \n",
       "top     https://www.amazon.co.uk/gp/profile/amzn1.acco...   \n",
       "freq                                                  150   \n",
       "\n",
       "                           product product_link  \n",
       "count                         7335         7652  \n",
       "unique                        6016         6029  \n",
       "top     Earphones In ear Black&Red            0  \n",
       "freq                           115          317  "
      ]
     },
     "execution_count": 18,
     "metadata": {},
     "output_type": "execute_result"
    }
   ],
   "source": [
    "#OBJECTS\n",
    "df.describe(include=object)"
   ]
  },
  {
   "cell_type": "code",
   "execution_count": 19,
   "id": "2f88a52a-86af-47f4-a16b-815ccac2eb96",
   "metadata": {},
   "outputs": [
    {
     "data": {
      "text/plain": [
       "url                   0\n",
       "review_bold           0\n",
       "ratings               0\n",
       "review                0\n",
       "verified              0\n",
       "date                  0\n",
       "by                    0\n",
       "profile_id            0\n",
       "most_rev              0\n",
       "by_link               0\n",
       "helpful               0\n",
       "product             317\n",
       "product_link          0\n",
       "review_sentiment      0\n",
       "dtype: int64"
      ]
     },
     "execution_count": 19,
     "metadata": {},
     "output_type": "execute_result"
    }
   ],
   "source": [
    "df.isnull().sum()\n"
   ]
  },
  {
   "cell_type": "code",
   "execution_count": 20,
   "id": "d3194e8f-0cd7-4a60-87f2-e622d841ed35",
   "metadata": {},
   "outputs": [
    {
     "name": "stdout",
     "output_type": "stream",
     "text": [
      "Number of duplicates in dataset:  241\n"
     ]
    }
   ],
   "source": [
    "#DISPLAYS THE NUMBER OF DUPLICATED VALUES\n",
    "dup = df.duplicated().sum()\n",
    "print(\"Number of duplicates in dataset: \", dup)"
   ]
  },
  {
   "cell_type": "code",
   "execution_count": 21,
   "id": "f750fe6a-ee30-4bf6-b1de-51a5ceab021a",
   "metadata": {},
   "outputs": [],
   "source": [
    "#SETTING SEABORN STYLE\n",
    "sns.set_style('darkgrid')"
   ]
  },
  {
   "cell_type": "code",
   "execution_count": 22,
   "id": "78e3f553-a2f1-4208-9f06-0821a1e52440",
   "metadata": {},
   "outputs": [
    {
     "name": "stdout",
     "output_type": "stream",
     "text": [
      "Number of duplicates in dataset:  0\n"
     ]
    }
   ],
   "source": [
    "dup = ip.duplicated().sum()\n",
    "print(\"Number of duplicates in dataset: \", dup)"
   ]
  },
  {
   "cell_type": "code",
   "execution_count": 23,
   "id": "54aa29aa-ec79-4bca-a1ff-fe8fa110ba71",
   "metadata": {},
   "outputs": [
    {
     "data": {
      "image/png": "[encoded data removed]",
      "text/plain": [
       "<Figure size 640x480 with 1 Axes>"
      ]
     },
     "metadata": {},
     "output_type": "display_data"
    }
   ],
   "source": [
    "ip.hist(edgecolor='black', linewidth=1.5)\n",
    "fig=plt.gcf()\n",
    "plt.show()"
   ]
  },
  {
   "cell_type": "code",
   "execution_count": 24,
   "id": "ed8d71b7-1be2-495f-acb7-ff191a93a55c",
   "metadata": {},
   "outputs": [],
   "source": [
    "import networkx as nx\n",
    "\n",
    "G = nx.Graph()\n",
    "# Add nodes and edges based on your dataset\n",
    "G.add_node('192.168.1.1')\n",
    "G.add_node('192.168.1.2')\n",
    "G.add_edge('192.168.1.1', '192.168.1.2')"
   ]
  },
  {
   "cell_type": "code",
   "execution_count": 25,
   "id": "b2c5c9cd-3c6f-45a5-95a0-2e7e7e5224ad",
   "metadata": {},
   "outputs": [],
   "source": [
    "# Example of adding features\n",
    "G.nodes['192.168.1.1']['feature'] = {'traffic_volume': 1000, 'malicious_count': 5}"
   ]
  },
  {
   "cell_type": "code",
   "execution_count": 26,
   "id": "d5eec00b-da99-40f5-b540-e2ed25223b12",
   "metadata": {},
   "outputs": [
    {
     "data": {
      "image/png": "[encoded data removed]",
      "text/plain": [
       "<Figure size 640x480 with 1 Axes>"
      ]
     },
     "metadata": {},
     "output_type": "display_data"
    }
   ],
   "source": [
    "pos = nx.spring_layout(G)\n",
    "nx.draw(G, pos, with_labels=True)\n",
    "plt.show()"
   ]
  },
  {
   "cell_type": "code",
   "execution_count": 11,
   "id": "c79e2fe1-c4d4-43fd-bf8d-310f8b79633a",
   "metadata": {},
   "outputs": [
    {
     "data": {
      "image/png": "[encoded data removed]",
      "text/plain": [
       "<Figure size 640x480 with 1 Axes>"
      ]
     },
     "metadata": {},
     "output_type": "display_data"
    }
   ],
   "source": [
    "import pandas as pd\n",
    "import matplotlib.pyplot as plt\n",
    "# Sample DataFrame (replace this with your actual DataFrame)\n",
    "data = {\n",
    "    'helpful_review_count': [1, 2, 2, 3, 1, 4, 3, 2]\n",
    "}\n",
    "df = pd.DataFrame(data)\n",
    "# Count the occurrences of each value in 'helpful_review_count'\n",
    "counts = df['helpful_review_count'].value_counts()\n",
    "# Create a bar plot\n",
    "plt.bar(counts.index, counts.values)\n",
    "plt.title(\"Total Helpful Review Counts in Reviews\")\n",
    "plt.xlabel(\"Helpful Review count\")\n",
    "plt.ylabel(\"Frequency\")\n",
    "plt.xticks(counts.index)  # Optional: Set x-ticks to match counts\n",
    "plt.show()"
   ]
  },
  {
   "cell_type": "code",
   "execution_count": 28,
   "id": "a6d196c9-02f9-48f8-8010-0f96b47e98ff",
   "metadata": {},
   "outputs": [
    {
     "data": {
      "image/png": "[encoded data removed]",
      "text/plain": [
       "<Figure size 400x400 with 1 Axes>"
      ]
     },
     "metadata": {},
     "output_type": "display_data"
    }
   ],
   "source": [
    "import pandas as pd\n",
    "import matplotlib.pyplot as plt\n",
    "# Sample DataFrame (replace this with your actual DataFrame)\n",
    "data = {\n",
    "    'verified_purchase': ['Yes', 'No', 'Yes', 'No', 'Yes']\n",
    "}\n",
    "df = pd.DataFrame(data)\n",
    "# Define colors for the pie chart\n",
    "colors = ['#79BAEC', '#FED8B1']\n",
    "# Create a figure for the pie chart\n",
    "plt.figure(figsize=(4, 4))\n",
    "# Count occurrences of each value in 'verified_purchase'\n",
    "label = df['verified_purchase'].value_counts()\n",
    "# Create a pie chart\n",
    "plt.pie(label.values, colors=colors, labels=label.index, autopct='%1.1f%%')\n",
    "plt.title(\"True and False Reviews Count\")\n",
    "plt.show()"
   ]
  },
  {
   "cell_type": "code",
   "execution_count": 12,
   "id": "3ce98506-ce6a-4cd1-aae3-cbcebb901453",
   "metadata": {},
   "outputs": [
    {
     "data": {
      "image/png": "[encoded data removed]",
      "text/plain": [
       "<Figure size 634.486x500 with 1 Axes>"
      ]
     },
     "metadata": {},
     "output_type": "display_data"
    }
   ],
   "source": [
    "import pandas as pd\n",
    "import seaborn as sns\n",
    "import matplotlib.pyplot as plt\n",
    "\n",
    "# Sample DataFrame (replace this with your actual DataFrame)\n",
    "data = {\n",
    "    'category': ['A', 'B', 'A', 'B', 'A', 'C', 'B', 'C', 'A', 'B'],\n",
    "    'verified_purchase': ['Yes', 'No', 'Yes', 'No', 'Yes', 'No', 'Yes', 'No', 'Yes', 'No']\n",
    "}\n",
    "df = pd.DataFrame(data)\n",
    "\n",
    "# Count plot of categories grouped by verified purchase\n",
    "sns.catplot(x='category', kind='count', hue='verified_purchase', data=df)\n",
    "plt.xlabel(\"Category\")\n",
    "plt.ylabel(\"Count of Reviews\")\n",
    "plt.title(\"Count of Reviews by Category and Verified Purchase\")\n",
    "plt.show()"
   ]
  },
  {
   "cell_type": "code",
   "execution_count": 13,
   "id": "a595c1a2-647d-49eb-97d3-fd7013b98df0",
   "metadata": {},
   "outputs": [
    {
     "data": {
      "image/png": "[encoded data removed]",
      "text/plain": [
       "<Figure size 1634.49x500 with 1 Axes>"
      ]
     },
     "metadata": {},
     "output_type": "display_data"
    }
   ],
   "source": [
    "import pandas as pd\n",
    "import seaborn as sns\n",
    "import matplotlib.pyplot as plt\n",
    "\n",
    "# Sample DataFrame (replace this with your actual DataFrame)\n",
    "data = {\n",
    "    'sub_category': ['X', 'Y', 'X', 'Z', 'Y', 'X', 'Z', 'Y', 'X', 'Y'],\n",
    "    'verified_purchase': ['Yes', 'No', 'Yes', 'No', 'Yes', 'No', 'Yes', 'No', 'Yes', 'No']\n",
    "}\n",
    "df = pd.DataFrame(data)\n",
    "\n",
    "# Count plot of sub_categories grouped by verified purchase\n",
    "sns.catplot(y='sub_category', kind='count', hue='verified_purchase', data=df, height=5, aspect=3)\n",
    "plt.ylabel(\"Sub Category\")\n",
    "plt.xlabel(\"Count of Reviews\")\n",
    "plt.title(\"Count of Reviews by Sub Category and Verified Purchase\")\n",
    "plt.show()"
   ]
  },
  {
   "cell_type": "code",
   "execution_count": 14,
   "id": "1058aeb5-f884-41ad-9208-e57c31c75c6b",
   "metadata": {},
   "outputs": [
    {
     "name": "stdout",
     "output_type": "stream",
     "text": [
      "Subset with verified purchases:\n",
      "   verified_purchase     review_text\n",
      "0               True  Great product!\n",
      "2               True       Loved it!\n",
      "3               True           Okay.\n",
      "\n",
      "Subset without verified purchases:\n",
      "   verified_purchase    review_text\n",
      "1              False  Not worth it.\n",
      "4              False      Terrible.\n"
     ]
    }
   ],
   "source": [
    "import pandas as pd\n",
    "# Sample DataFrame (replace this with your actual DataFrame)\n",
    "data = {\n",
    "    'verified_purchase': [True, False, True, True, False],\n",
    "    'review_text': ['Great product!', 'Not worth it.', 'Loved it!', 'Okay.', 'Terrible.']\n",
    "}\n",
    "df = pd.DataFrame(data)\n",
    "# Creating a subset of the DataFrame\n",
    "cols = [\"verified_purchase\", \"review_text\"]\n",
    "vprt = df[cols]  # Making a subset of the DataFrame\n",
    "# Filtering based on True and False verified purchase\n",
    "checkTrue = vprt[\"verified_purchase\"] == True\n",
    "checkFalse = vprt[\"verified_purchase\"] == False\n",
    "# Display the subsets\n",
    "print(\"Subset with verified purchases:\")\n",
    "print(vprt[checkTrue])\n",
    "print(\"\\nSubset without verified purchases:\")\n",
    "print(vprt[checkFalse])"
   ]
  },
  {
   "cell_type": "markdown",
   "id": "a6cb7e3a-d599-473c-b6ee-ca8997e8ac4a",
   "metadata": {},
   "source": [
    "USING XGBoost "
   ]
  },
  {
   "cell_type": "code",
   "execution_count": 15,
   "id": "91508ad7-3ec2-4dfd-b8b4-b78973989be5",
   "metadata": {},
   "outputs": [
    {
     "name": "stderr",
     "output_type": "stream",
     "text": [
      "C:\\Users\\arfam\\AppData\\Local\\Programs\\Python\\Python312\\Lib\\site-packages\\xgboost\\core.py:158: UserWarning: [19:48:14] WARNING: C:\\buildkite-agent\\builds\\buildkite-windows-cpu-autoscaling-group-i-0015a694724fa8361-1\\xgboost\\xgboost-ci-windows\\src\\learner.cc:740: \n",
      "Parameters: { \"use_label_encoder\" } are not used.\n",
      "\n",
      "  warnings.warn(smsg, UserWarning)\n"
     ]
    }
   ],
   "source": [
    "import pandas as pd\n",
    "from sklearn.model_selection import train_test_split\n",
    "from sklearn.feature_extraction.text import TfidfVectorizer\n",
    "from xgboost import XGBClassifier\n",
    "from sklearn.metrics import accuracy_score, classification_report, confusion_matrix\n",
    "\n",
    "# Load your dataset\n",
    "df = pd.read_csv(\"C:/Users/arfam/Downloads/final_dataset.csv\", encoding='ISO-8859-1')\n",
    "\n",
    "# Define features and labels (replace 'review_text' and 'is_fake' with actual column names)\n",
    "X = df['review']  # Text of the reviews\n",
    "y = df['verified']      # Target variable indicating if the review is fake (1) or real (0)\n",
    "\n",
    "# Split the data into training and testing sets\n",
    "X_train, X_test, y_train, y_test = train_test_split(X, y, test_size=0.2, random_state=42)\n",
    "\n",
    "# Vectorize the text data using TF-IDF\n",
    "vectorizer = TfidfVectorizer(max_features=5000)\n",
    "X_train_vec = vectorizer.fit_transform(X_train)\n",
    "X_test_vec = vectorizer.transform(X_test)\n",
    "\n",
    "# Initialize and train the XGBoost classifier\n",
    "xgb_model = XGBClassifier(use_label_encoder=False, eval_metric='logloss')\n",
    "xgb_model.fit(X_train_vec, y_train)\n",
    "\n",
    "# Make predictions on the test set\n",
    "y_pred = xgb_model.predict(X_test_vec)\n",
    "\n",
    "# Evaluate the model\n",
    "accuracy = accuracy_score(y_test, y_pred)\n",
    "classification_report_result = classification_report(y_test, y_pred)\n",
    "confusion_matrix_result = confusion_matrix(y_test, y_pred)\n",
    "\n",
    "# Store results in a dictionary for further use if needed\n",
    "results = {\n",
    "    \"accuracy\": accuracy,\n",
    "    \"classification_report\": classification_report_result,\n",
    "    \"confusion_matrix\": confusion_matrix_result\n",
    "}"
   ]
  },
  {
   "cell_type": "code",
   "execution_count": 16,
   "id": "fa8f0af1-d6c3-418a-87a1-9c511ce2fc9a",
   "metadata": {},
   "outputs": [
    {
     "data": {
      "image/png": "[encoded data removed]",
      "text/plain": [
       "<Figure size 800x600 with 1 Axes>"
      ]
     },
     "metadata": {},
     "output_type": "display_data"
    }
   ],
   "source": [
    "import matplotlib.pyplot as plt\n",
    "\n",
    "# Sample data for the pie chart\n",
    "labels = ['Fake Reviews', 'Real Reviews']\n",
    "sizes = [30, 70]  # Example proportions (e.g., 30% fake, 70% real)\n",
    "colors = ['#ff9997','#55b3ff']  # Colors for each slice\n",
    "explode = (0.1, 0)  # Explode the first slice (Fake Reviews)\n",
    "\n",
    "# Create the pie chart\n",
    "plt.figure(figsize=(8, 6))\n",
    "plt.pie(sizes, explode=explode, labels=labels, colors=colors,\n",
    "        autopct='%1.1f%%', shadow=True, startangle=140)\n",
    "\n",
    "# Equal aspect ratio ensures that pie is drawn as a circle.\n",
    "plt.axis('equal')  \n",
    "plt.title('Distribution of Fake vs Real Reviews')\n",
    "plt.show()"
   ]
  },
  {
   "cell_type": "code",
   "execution_count": null,
   "id": "27640075-5c5f-42db-86a0-56ecccfb438b",
   "metadata": {},
   "outputs": [],
   "source": []
  }
 ],
 "metadata": {
  "kernelspec": {
   "display_name": "Python 3 (ipykernel)",
   "language": "python",
   "name": "python3"
  },
  "language_info": {
   "codemirror_mode": {
    "name": "ipython",
    "version": 3
   },
   "file_extension": ".py",
   "mimetype": "text/x-python",
   "name": "python",
   "nbconvert_exporter": "python",
   "pygments_lexer": "ipython3",
   "version": "3.12.4"
  }
 },
 "nbformat": 4,
 "nbformat_minor": 5
}
